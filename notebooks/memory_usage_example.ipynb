{
 "cells": [
  {
   "cell_type": "markdown",
   "id": "1b25dd33",
   "metadata": {},
   "source": [
    "# MemoryWorker Usage Example\n",
    "\n",
    "This notebook demonstrates how to use the `MemoryWorker` to add, search, and retrieve memories for an agent."
   ]
  },
  {
   "cell_type": "code",
   "execution_count": 5,
   "id": "29b13236",
   "metadata": {},
   "outputs": [],
   "source": [
    "import sys\n",
    "import os\n",
    "import json\n",
    "from pathlib import Path"
   ]
  },
  {
   "cell_type": "markdown",
   "id": "6b2934ca",
   "metadata": {},
   "source": [
    "Initialize `MemoryWorker`."
   ]
  },
  {
   "cell_type": "code",
   "execution_count": 2,
   "id": "d49e1ea5",
   "metadata": {},
   "outputs": [
    {
     "name": "stdout",
     "output_type": "stream",
     "text": [
      "MemoryWorker initialized.\n"
     ]
    }
   ],
   "source": [
    "from src.memory.memory import MemoryWorker\n",
    "\n",
    "memory_worker = MemoryWorker()\n",
    "\n",
    "print(\"MemoryWorker initialized.\")"
   ]
  },
  {
   "cell_type": "markdown",
   "id": "cd852e04",
   "metadata": {},
   "source": [
    "### Add Memories"
   ]
  },
  {
   "cell_type": "code",
   "execution_count": 3,
   "id": "ac2d3a73",
   "metadata": {},
   "outputs": [
    {
     "name": "stdout",
     "output_type": "stream",
     "text": [
      "3 memories added.\n"
     ]
    }
   ],
   "source": [
    "memory_worker.execute('add', 'AAPL Q4 earnings beat expectations', ['AAPL', 'earnings'])\n",
    "memory_worker.execute('add', 'MSFT announced a new AI partnership', ['MSFT', 'AI'])\n",
    "memory_worker.execute('add', 'TSLA stock is volatile due to production concerns', ['TSLA', 'production'])\n",
    "\n",
    "print(\"3 memories added.\")"
   ]
  },
  {
   "cell_type": "markdown",
   "id": "c7b69d8a",
   "metadata": {},
   "source": [
    "### View Stored Memories\n",
    "\n",
    "The memories are stored in a JSON file. Let's look at its content."
   ]
  },
  {
   "cell_type": "code",
   "execution_count": 6,
   "id": "9c46dee9",
   "metadata": {},
   "outputs": [
    {
     "name": "stdout",
     "output_type": "stream",
     "text": [
      "[\n",
      "  {\n",
      "    \"timestamp\": \"2025-10-04T19:20:42.431061\",\n",
      "    \"text\": \"AAPL Q4 earnings beat expectations\",\n",
      "    \"tags\": [\n",
      "      \"AAPL\",\n",
      "      \"earnings\"\n",
      "    ]\n",
      "  },\n",
      "  {\n",
      "    \"timestamp\": \"2025-10-04T19:20:42.431664\",\n",
      "    \"text\": \"MSFT announced a new AI partnership\",\n",
      "    \"tags\": [\n",
      "      \"MSFT\",\n",
      "      \"AI\"\n",
      "    ]\n",
      "  },\n",
      "  {\n",
      "    \"timestamp\": \"2025-10-04T19:20:42.431844\",\n",
      "    \"text\": \"TSLA stock is volatile due to production concerns\",\n",
      "    \"tags\": [\n",
      "      \"TSLA\",\n",
      "      \"production\"\n",
      "    ]\n",
      "  },\n",
      "  {\n",
      "    \"timestamp\": \"2025-10-04T19:25:28.486744\",\n",
      "    \"text\": \"AAPL Q4 earnings beat expectations\",\n",
      "    \"tags\": [\n",
      "      \"AAPL\",\n",
      "      \"earnings\"\n",
      "    ]\n",
      "  },\n",
      "  {\n",
      "    \"timestamp\": \"2025-10-04T19:25:28.487872\",\n",
      "    \"text\": \"MSFT announced a new AI partnership\",\n",
      "    \"tags\": [\n",
      "      \"MSFT\",\n",
      "      \"AI\"\n",
      "    ]\n",
      "  },\n",
      "  {\n",
      "    \"timestamp\": \"2025-10-04T19:25:28.488276\",\n",
      "    \"text\": \"TSLA stock is volatile due to production concerns\",\n",
      "    \"tags\": [\n",
      "      \"TSLA\",\n",
      "      \"production\"\n",
      "    ]\n",
      "  }\n",
      "]\n"
     ]
    }
   ],
   "source": [
    "project_root = cwd = Path.cwd()\n",
    "\n",
    "memory_file_path = os.path.join(project_root, 'data', 'agent_memory.json')\n",
    "\n",
    "with open(memory_file_path, 'r') as f:\n",
    "    memories_from_file = json.load(f)\n",
    "\n",
    "print(json.dumps(memories_from_file, indent=2))"
   ]
  },
  {
   "cell_type": "markdown",
   "id": "312adfe7",
   "metadata": {},
   "source": [
    "### Search Memories by tag\n",
    "\n",
    "We can search for memories containing a specific query in their text or tags."
   ]
  },
  {
   "cell_type": "code",
   "execution_count": 10,
   "id": "1e5a42de",
   "metadata": {},
   "outputs": [
    {
     "name": "stdout",
     "output_type": "stream",
     "text": [
      "Search results for 'earnings':\n",
      "[\n",
      "  {\n",
      "    \"timestamp\": \"2025-10-04T19:25:28.486744\",\n",
      "    \"text\": \"AAPL Q4 earnings beat expectations\",\n",
      "    \"tags\": [\n",
      "      \"AAPL\",\n",
      "      \"earnings\"\n",
      "    ]\n",
      "  },\n",
      "  {\n",
      "    \"timestamp\": \"2025-10-04T19:20:42.431061\",\n",
      "    \"text\": \"AAPL Q4 earnings beat expectations\",\n",
      "    \"tags\": [\n",
      "      \"AAPL\",\n",
      "      \"earnings\"\n",
      "    ]\n",
      "  }\n",
      "]\n",
      "==============================\n",
      "Search results for 'AI':\n",
      "[\n",
      "  {\n",
      "    \"timestamp\": \"2025-10-04T19:25:28.487872\",\n",
      "    \"text\": \"MSFT announced a new AI partnership\",\n",
      "    \"tags\": [\n",
      "      \"MSFT\",\n",
      "      \"AI\"\n",
      "    ]\n",
      "  },\n",
      "  {\n",
      "    \"timestamp\": \"2025-10-04T19:20:42.431664\",\n",
      "    \"text\": \"MSFT announced a new AI partnership\",\n",
      "    \"tags\": [\n",
      "      \"MSFT\",\n",
      "      \"AI\"\n",
      "    ]\n",
      "  }\n",
      "]\n"
     ]
    }
   ],
   "source": [
    "search_results_earnings = memory_worker.execute('search', 'earnings')\n",
    "print(\"Search results for 'earnings':\")\n",
    "print(json.dumps(search_results_earnings, indent=2))\n",
    "\n",
    "print(\"=\"*30)\n",
    "\n",
    "search_results_ai = memory_worker.execute('search', 'AI')\n",
    "print(\"Search results for 'AI':\")\n",
    "print(json.dumps(search_results_ai, indent=2))"
   ]
  },
  {
   "cell_type": "markdown",
   "id": "d874fe7a",
   "metadata": {},
   "source": [
    "### Get Recent Memories\n",
    "\n",
    "We can also retrieve the most recent 'n' memories."
   ]
  },
  {
   "cell_type": "code",
   "execution_count": 11,
   "id": "8c7383d3",
   "metadata": {},
   "outputs": [
    {
     "name": "stdout",
     "output_type": "stream",
     "text": [
      "Most recent 2 memories:\n",
      "[\n",
      "  {\n",
      "    \"timestamp\": \"2025-10-04T19:25:28.488276\",\n",
      "    \"text\": \"TSLA stock is volatile due to production concerns\",\n",
      "    \"tags\": [\n",
      "      \"TSLA\",\n",
      "      \"production\"\n",
      "    ]\n",
      "  },\n",
      "  {\n",
      "    \"timestamp\": \"2025-10-04T19:25:28.487872\",\n",
      "    \"text\": \"MSFT announced a new AI partnership\",\n",
      "    \"tags\": [\n",
      "      \"MSFT\",\n",
      "      \"AI\"\n",
      "    ]\n",
      "  }\n",
      "]\n"
     ]
    }
   ],
   "source": [
    "recent_memories = memory_worker.execute('get_recent', 2)\n",
    "print(\"Most recent 2 memories:\")\n",
    "print(json.dumps(recent_memories, indent=2))"
   ]
  }
 ],
 "metadata": {
  "kernelspec": {
   "display_name": "masters",
   "language": "python",
   "name": "python3"
  },
  "language_info": {
   "codemirror_mode": {
    "name": "ipython",
    "version": 3
   },
   "file_extension": ".py",
   "mimetype": "text/x-python",
   "name": "python",
   "nbconvert_exporter": "python",
   "pygments_lexer": "ipython3",
   "version": "3.12.4"
  }
 },
 "nbformat": 4,
 "nbformat_minor": 5
}
