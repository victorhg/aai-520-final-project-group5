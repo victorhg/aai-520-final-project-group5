{
 "cells": [
  {
   "cell_type": "code",
   "execution_count": 1,
   "id": "f9610279",
   "metadata": {},
   "outputs": [],
   "source": [
    "from huggingface_hub import login\n",
    "import os\n",
    "from dotenv import load_dotenv\n",
    "\n",
    "load_dotenv()\n",
    "hf_token = os.getenv(\"HUGGING_FACE_TOKEN\")\n",
    "login(token=hf_token)"
   ]
  },
  {
   "cell_type": "code",
   "execution_count": null,
   "id": "58ec2e0c",
   "metadata": {},
   "outputs": [
    {
     "name": "stdout",
     "output_type": "stream",
     "text": [
      "Introducing Comet: Browse at the speed of thought: https://www.perplexity.ai/hub/blog/introducing-comet\n",
      "Browse at the speed of thought: https://www.perplexity.ai/comet/\n",
      "Comet Browser Review 2025: Features, Pricing, Pros & Cons: https://efficient.app/apps/comet\n",
      "Perplexity's AI-Native Browser Comet is HERE: https://www.youtube.com/watch?v=ri_bFrDp44M\n",
      "Introducing Comet: Browse at the Speed of Thought: https://www.youtube.com/watch?v=YeldJ4UezDQ\n",
      "Perplexity launches Comet, an AI-powered web browser - TechCrunch: https://techcrunch.com/2025/07/09/perplexity-launches-comet-an-ai-powered-web-browser/\n",
      "What Is Comet and Why Everyone's Talking About It: https://apidog.com/blog/what-is-comet/\n",
      "Perplexity launches Comet browser to rival Google: https://timesofindia.indiatimes.com/technology/tech-news/perplexity-launches-comet-browser-to-rival-google-what-are-the-features-availability-and-benefits-of-comet/articleshow/124093855.cms\n",
      "Comet: The AI browser gets personal: https://www.ibm.com/think/news/comet-perplexity-take-agentic-browser\n",
      "Comet Browser: The AI-First Tab Killer That Might Kill Your ...: https://dev.to/aniruddhaadak/comet-browser-the-ai-first-tab-killer-that-might-kill-your-tabs-34fd\n"
     ]
    }
   ],
   "source": [
    "from perplexity import Perplexity\n",
    "from dotenv import load_dotenv\n",
    "\n",
    "load_dotenv() \n",
    "\n",
    "client = Perplexity() # PERPLEXITY_API_KEY is read from environment variable\n",
    "\n",
    "search = client.search.create(\n",
    "    query=[\n",
    "      \"What is Comet Browser?\",\n",
    "      \"Perplexity AI\",\n",
    "      \"Perplexity Changelog\"\n",
    "    ]\n",
    ")\n",
    "\n",
    "\n",
    "\n",
    "for result in search.results:\n",
    "    print(f\"{result.title}: {result.url}\")"
   ]
  },
  {
   "cell_type": "code",
   "execution_count": 10,
   "id": "49e96d54",
   "metadata": {},
   "outputs": [],
   "source": [
    "import json\n",
    "from pprint import pprint\n",
    "\n",
    "goal = \"Analyze AAPL stock for a potential investment.\"\n",
    "\n",
    "prompt = f\"\"\"\n",
    "    As an autonomous investment research agent, create a detailed plan to achieve this goal:\n",
    "    Goal: {goal}\n",
    "    \n",
    "    Available tools: web search, financial data API, news aggregator, sentiment analysis tool\n",
    "\n",
    "    Create a plan with:\n",
    "    1. Logical research steps (3-7 steps)\n",
    "    2. Estimated time in minutes\n",
    "    3. Required tools for each step\n",
    "    4. Success criteria to evaluate completion\n",
    "    \n",
    "    Answer in JSON format:\n",
    "    {{\n",
    "        \"goal\": \"...\",\n",
    "        \"steps\": [\"step1\", \"step2\", ...],\n",
    "        \"estimated_time\": 30,\n",
    "        \"required_tools\": [\"tool1\", \"tool2\", ...],\n",
    "        \"success_criteria\": [\"criteria1\", \"criteria2\", ...]\n",
    "    }}\n",
    "\"\"\"\n",
    "\n",
    "\n",
    "response = client.chat.completions.create(\n",
    "    messages=[\n",
    "        {\n",
    "            \"role\": \"user\",\n",
    "            \"content\": prompt,\n",
    "        }\n",
    "    ],\n",
    "    model=\"sonar\",\n",
    ")\n"
   ]
  },
  {
   "cell_type": "code",
   "execution_count": 12,
   "id": "d9ee91f5",
   "metadata": {},
   "outputs": [
    {
     "name": "stdout",
     "output_type": "stream",
     "text": [
      "{'estimated_time': 45,\n",
      " 'goal': 'Analyze AAPL stock for a potential investment.',\n",
      " 'required_tools': ['financial data API',\n",
      "                    'web search',\n",
      "                    'news aggregator',\n",
      "                    'sentiment analysis tool'],\n",
      " 'steps': ['Conduct a fundamental analysis by gathering key financial metrics '\n",
      "           'such as revenue, earnings, free cash flow, and dividend history '\n",
      "           'using the financial data API.',\n",
      "           'Perform a discounted cash flow (DCF) valuation and compare it with '\n",
      "           'current market price to assess intrinsic value vs. market '\n",
      "           'valuation.',\n",
      "           'Analyze recent news and developments about Apple using the news '\n",
      "           'aggregator to identify catalysts or risks affecting the stock.',\n",
      "           'Use the sentiment analysis tool to gauge market sentiment toward '\n",
      "           'Apple from news and social media sources.',\n",
      "           'Perform a technical analysis by reviewing recent price movements, '\n",
      "           'volume, and momentum indicators to assess short-term trading '\n",
      "           'trends.',\n",
      "           'Synthesize all collected data to form an investment thesis '\n",
      "           'regarding whether AAPL is undervalued, overvalued, or fairly '\n",
      "           'priced.'],\n",
      " 'success_criteria': ['Completed financial overview and comparison of key '\n",
      "                      'metrics to historical and peer data.',\n",
      "                      'Produced a DCF model output indicating intrinsic value '\n",
      "                      'relative to current stock price.',\n",
      "                      'Compiled a summary of recent news events impacting '\n",
      "                      'Apple, including positive and negative catalysts.',\n",
      "                      'Generated quantified sentiment score reflecting current '\n",
      "                      'market opinion.',\n",
      "                      'Presented a technical chart analysis highlighting '\n",
      "                      'significant trend signals.',\n",
      "                      'Delivered a clear, evidence-based recommendation on the '\n",
      "                      'investment potential of AAPL stock.']}\n"
     ]
    }
   ],
   "source": [
    "\n",
    "#print(\"Raw Response:\\n\", response.choices[0].message.content)\n",
    "plan_data = json.loads(response.choices[0].message.content)\n",
    "\n",
    "pprint(plan_data)"
   ]
  }
 ],
 "metadata": {
  "kernelspec": {
   "display_name": "masters",
   "language": "python",
   "name": "python3"
  },
  "language_info": {
   "codemirror_mode": {
    "name": "ipython",
    "version": 3
   },
   "file_extension": ".py",
   "mimetype": "text/x-python",
   "name": "python",
   "nbconvert_exporter": "python",
   "pygments_lexer": "ipython3",
   "version": "3.12.4"
  }
 },
 "nbformat": 4,
 "nbformat_minor": 5
}
